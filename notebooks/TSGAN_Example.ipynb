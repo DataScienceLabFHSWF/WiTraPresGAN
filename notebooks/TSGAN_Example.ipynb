{
 "cells": [
  {
   "cell_type": "code",
   "execution_count": 2,
   "id": "20043616",
   "metadata": {},
   "outputs": [],
   "source": [
    "import pandas as pd\n",
    "import seaborn as sns\n",
    "import matplotlib.pyplot as plt\n",
    "import numpy as np\n",
    "import datetime\n",
    "import matplotlib\n",
    "from glob import glob\n",
    "from timegan import timegan\n",
    "# 2. Data loading\n",
    "from data_loading import real_data_loading, sine_data_generation\n",
    "# 3. Metrics\n",
    "from metrics.discriminative_metrics import discriminative_score_metrics\n",
    "from metrics.predictive_metrics import predictive_score_metrics\n",
    "from metrics.visualization_metrics import visualization\n",
    "from metrics.metric utils import *\n",
    "import os\n",
    "os.environ['TF_CPP_MIN_LOG_LEVEL'] = '3'\n",
    "import tensorflow as tf"
   ]
  },
  {
   "cell_type": "code",
   "execution_count": 3,
   "id": "e8a8ea7d",
   "metadata": {},
   "outputs": [
    {
     "name": "stdout",
     "output_type": "stream",
     "text": [
      "367\n"
     ]
    },
    {
     "name": "stderr",
     "output_type": "stream",
     "text": [
      "/home/fneubuerger/.local/anaconda3/envs/TGAN/lib/python3.7/site-packages/pandas/util/_decorators.py:311: ParserWarning: Length of header or names does not match length of data. This leads to a loss of data with index_col=False.\n",
      "  return func(*args, **kwargs)\n"
     ]
    },
    {
     "name": "stdout",
     "output_type": "stream",
     "text": [
      "367\n",
      "(367, 305, 10)\n"
     ]
    }
   ],
   "source": [
    "nodelabels=['timestamp', 'Stempel_innen_mitte', 'Stempel_aussen', 'Matrize_zarge_oben', 'Matrize_zarge_mitte','Matrize_zarge_unten', 'Werkstueck_boden', 'Werkstueck_zarge_unten' , 'Werkstueck_zarge_mitte', 'Werkstueck_zarge_oben']\n",
    "\n",
    "filenames = glob(\"../data/FEM_Data/*.csv\")\n",
    "print(len(filenames))\n",
    "train_df = []\n",
    "for filename in filenames:\n",
    "    df = pd.read_csv(filename, names=nodelabels, skiprows=1, index_col=False).drop_duplicates()#.drop(columns='timestamp')\n",
    "    train_df.append(df.to_numpy())\n",
    "\n",
    "print(len(train_df))   \n",
    "train_data = tf.keras.preprocessing.sequence.pad_sequences(train_df) \n",
    "print(train_data.shape)"
   ]
  },
  {
   "cell_type": "code",
   "execution_count": 4,
   "id": "50bf71d2",
   "metadata": {},
   "outputs": [],
   "source": [
    "## Newtork parameters\n",
    "parameters = dict()\n",
    "\n",
    "parameters['module'] = 'gru' \n",
    "parameters['hidden_dim'] = 24\n",
    "parameters['num_layer'] = 3\n",
    "parameters['iterations'] = 10000\n",
    "parameters['batch_size'] = 128"
   ]
  },
  {
   "cell_type": "code",
   "execution_count": null,
   "id": "dfa09a57",
   "metadata": {},
   "outputs": [
    {
     "name": "stdout",
     "output_type": "stream",
     "text": [
      "WARNING:tensorflow:From /c/Users/Felix Neubürger/Documents/GitHub/WiTraPresGAN/notebooks/timegan.py:38: The name tf.reset_default_graph is deprecated. Please use tf.compat.v1.reset_default_graph instead.\n",
      "\n",
      "WARNING:tensorflow:From /c/Users/Felix Neubürger/Documents/GitHub/WiTraPresGAN/notebooks/timegan.py:81: The name tf.placeholder is deprecated. Please use tf.compat.v1.placeholder instead.\n",
      "\n",
      "WARNING:tensorflow:From /c/Users/Felix Neubürger/Documents/GitHub/WiTraPresGAN/notebooks/timegan.py:95: The name tf.variable_scope is deprecated. Please use tf.compat.v1.variable_scope instead.\n",
      "\n",
      "WARNING:tensorflow:From /c/Users/Felix Neubürger/Documents/GitHub/WiTraPresGAN/notebooks/timegan.py:95: The name tf.AUTO_REUSE is deprecated. Please use tf.compat.v1.AUTO_REUSE instead.\n",
      "\n",
      "WARNING:tensorflow:From /c/Users/Felix Neubürger/Documents/GitHub/WiTraPresGAN/notebooks/utils.py:95: GRUCell.__init__ (from tensorflow.python.ops.rnn_cell_impl) is deprecated and will be removed in a future version.\n",
      "Instructions for updating:\n",
      "This class is equivalent as tf.keras.layers.GRUCell, and will be replaced by that in Tensorflow 2.0.\n",
      "WARNING:tensorflow:From /c/Users/Felix Neubürger/Documents/GitHub/WiTraPresGAN/notebooks/timegan.py:96: MultiRNNCell.__init__ (from tensorflow.python.ops.rnn_cell_impl) is deprecated and will be removed in a future version.\n",
      "Instructions for updating:\n",
      "This class is equivalent as tf.keras.layers.StackedRNNCells, and will be replaced by that in Tensorflow 2.0.\n",
      "WARNING:tensorflow:From /c/Users/Felix Neubürger/Documents/GitHub/WiTraPresGAN/notebooks/timegan.py:97: dynamic_rnn (from tensorflow.python.ops.rnn) is deprecated and will be removed in a future version.\n",
      "Instructions for updating:\n",
      "Please use `keras.layers.RNN(cell)`, which is equivalent to this API\n",
      "WARNING:tensorflow:From /home/fneubuerger/.local/anaconda3/envs/TGAN/lib/python3.7/site-packages/tensorflow_core/python/ops/rnn_cell_impl.py:559: Layer.add_variable (from tensorflow.python.keras.engine.base_layer) is deprecated and will be removed in a future version.\n",
      "Instructions for updating:\n",
      "Please use `layer.add_weight` method instead.\n",
      "WARNING:tensorflow:From /home/fneubuerger/.local/anaconda3/envs/TGAN/lib/python3.7/site-packages/tensorflow_core/python/ops/rnn_cell_impl.py:565: calling Constant.__init__ (from tensorflow.python.ops.init_ops) with dtype is deprecated and will be removed in a future version.\n",
      "Instructions for updating:\n",
      "Call initializer instance with the dtype argument instead of passing it to the constructor\n",
      "WARNING:tensorflow:From /home/fneubuerger/.local/anaconda3/envs/TGAN/lib/python3.7/site-packages/tensorflow_core/python/ops/rnn_cell_impl.py:575: calling Zeros.__init__ (from tensorflow.python.ops.init_ops) with dtype is deprecated and will be removed in a future version.\n",
      "Instructions for updating:\n",
      "Call initializer instance with the dtype argument instead of passing it to the constructor\n",
      "WARNING:tensorflow:From /home/fneubuerger/.local/anaconda3/envs/TGAN/lib/python3.7/site-packages/tensorflow_core/python/ops/rnn.py:244: where (from tensorflow.python.ops.array_ops) is deprecated and will be removed in a future version.\n",
      "Instructions for updating:\n",
      "Use tf.where in 2.0, which has the same broadcast rule as np.where\n",
      "WARNING:tensorflow:\n",
      "The TensorFlow contrib module will not be included in TensorFlow 2.0.\n",
      "For more information, please see:\n",
      "  * https://github.com/tensorflow/community/blob/master/rfcs/20180907-contrib-sunset.md\n",
      "  * https://github.com/tensorflow/addons\n",
      "  * https://github.com/tensorflow/io (for I/O related ops)\n",
      "If you depend on functionality not listed there, please file an issue.\n",
      "\n",
      "WARNING:tensorflow:From /home/fneubuerger/.local/anaconda3/envs/TGAN/lib/python3.7/site-packages/tensorflow_core/contrib/layers/python/layers/layers.py:1866: Layer.apply (from tensorflow.python.keras.engine.base_layer) is deprecated and will be removed in a future version.\n",
      "Instructions for updating:\n",
      "Please use `layer.__call__` method instead.\n",
      "WARNING:tensorflow:From /c/Users/Felix Neubürger/Documents/GitHub/WiTraPresGAN/notebooks/timegan.py:183: The name tf.trainable_variables is deprecated. Please use tf.compat.v1.trainable_variables instead.\n",
      "\n",
      "WARNING:tensorflow:From /c/Users/Felix Neubürger/Documents/GitHub/WiTraPresGAN/notebooks/timegan.py:190: The name tf.losses.sigmoid_cross_entropy is deprecated. Please use tf.compat.v1.losses.sigmoid_cross_entropy instead.\n",
      "\n",
      "WARNING:tensorflow:From /c/Users/Felix Neubürger/Documents/GitHub/WiTraPresGAN/notebooks/timegan.py:201: The name tf.losses.mean_squared_error is deprecated. Please use tf.compat.v1.losses.mean_squared_error instead.\n",
      "\n",
      "WARNING:tensorflow:From /c/Users/Felix Neubürger/Documents/GitHub/WiTraPresGAN/notebooks/timegan.py:218: The name tf.train.AdamOptimizer is deprecated. Please use tf.compat.v1.train.AdamOptimizer instead.\n",
      "\n",
      "WARNING:tensorflow:From /c/Users/Felix Neubürger/Documents/GitHub/WiTraPresGAN/notebooks/timegan.py:225: The name tf.Session is deprecated. Please use tf.compat.v1.Session instead.\n",
      "\n",
      "WARNING:tensorflow:From /c/Users/Felix Neubürger/Documents/GitHub/WiTraPresGAN/notebooks/timegan.py:226: The name tf.global_variables_initializer is deprecated. Please use tf.compat.v1.global_variables_initializer instead.\n",
      "\n"
     ]
    },
    {
     "name": "stderr",
     "output_type": "stream",
     "text": [
      "OMP: Info #155: KMP_AFFINITY: Initial OS proc set respected: 0-11\n",
      "OMP: Info #216: KMP_AFFINITY: decoding x2APIC ids.\n",
      "OMP: Info #216: KMP_AFFINITY: x2APIC ids not unique.\n",
      "OMP: Info #216: KMP_AFFINITY: decoding legacy APIC ids.\n",
      "OMP: Info #216: KMP_AFFINITY: legacy APIC ids not unique.\n",
      "OMP: Info #220: KMP_AFFINITY: parsing /proc/cpuinfo.\n",
      "OMP: Info #157: KMP_AFFINITY: 12 available OS procs\n",
      "OMP: Info #158: KMP_AFFINITY: Uniform topology\n",
      "OMP: Info #287: KMP_AFFINITY: topology layer \"LL cache\" is equivalent to \"socket\".\n",
      "OMP: Info #192: KMP_AFFINITY: 1 socket x 6 cores/socket x 2 threads/core (6 total cores)\n",
      "OMP: Info #218: KMP_AFFINITY: OS proc to physical thread map:\n",
      "OMP: Info #172: KMP_AFFINITY: OS proc 0 maps to socket 0 core 0 thread 0 \n",
      "OMP: Info #172: KMP_AFFINITY: OS proc 1 maps to socket 0 core 0 thread 1 \n",
      "OMP: Info #172: KMP_AFFINITY: OS proc 2 maps to socket 0 core 1 thread 0 \n",
      "OMP: Info #172: KMP_AFFINITY: OS proc 3 maps to socket 0 core 1 thread 1 \n",
      "OMP: Info #172: KMP_AFFINITY: OS proc 4 maps to socket 0 core 2 thread 0 \n",
      "OMP: Info #172: KMP_AFFINITY: OS proc 5 maps to socket 0 core 2 thread 1 \n",
      "OMP: Info #172: KMP_AFFINITY: OS proc 6 maps to socket 0 core 3 thread 0 \n",
      "OMP: Info #172: KMP_AFFINITY: OS proc 7 maps to socket 0 core 3 thread 1 \n",
      "OMP: Info #172: KMP_AFFINITY: OS proc 8 maps to socket 0 core 4 thread 0 \n",
      "OMP: Info #172: KMP_AFFINITY: OS proc 9 maps to socket 0 core 4 thread 1 \n",
      "OMP: Info #172: KMP_AFFINITY: OS proc 10 maps to socket 0 core 5 thread 0 \n",
      "OMP: Info #172: KMP_AFFINITY: OS proc 11 maps to socket 0 core 5 thread 1 \n",
      "OMP: Info #254: KMP_AFFINITY: pid 408 tid 408 thread 0 bound to OS proc set 0\n"
     ]
    },
    {
     "name": "stdout",
     "output_type": "stream",
     "text": [
      "Start Embedding Network Training\n"
     ]
    },
    {
     "name": "stderr",
     "output_type": "stream",
     "text": [
      "OMP: Info #254: KMP_AFFINITY: pid 408 tid 455 thread 1 bound to OS proc set 2\n",
      "OMP: Info #254: KMP_AFFINITY: pid 408 tid 457 thread 2 bound to OS proc set 4\n",
      "OMP: Info #254: KMP_AFFINITY: pid 408 tid 459 thread 4 bound to OS proc set 8\n",
      "OMP: Info #254: KMP_AFFINITY: pid 408 tid 458 thread 3 bound to OS proc set 6\n",
      "OMP: Info #254: KMP_AFFINITY: pid 408 tid 460 thread 5 bound to OS proc set 10\n",
      "OMP: Info #254: KMP_AFFINITY: pid 408 tid 461 thread 6 bound to OS proc set 1\n",
      "OMP: Info #254: KMP_AFFINITY: pid 408 tid 462 thread 7 bound to OS proc set 3\n",
      "OMP: Info #254: KMP_AFFINITY: pid 408 tid 464 thread 9 bound to OS proc set 7\n",
      "OMP: Info #254: KMP_AFFINITY: pid 408 tid 463 thread 8 bound to OS proc set 5\n",
      "OMP: Info #254: KMP_AFFINITY: pid 408 tid 465 thread 10 bound to OS proc set 9\n",
      "OMP: Info #254: KMP_AFFINITY: pid 408 tid 466 thread 11 bound to OS proc set 11\n",
      "OMP: Info #254: KMP_AFFINITY: pid 408 tid 467 thread 12 bound to OS proc set 0\n",
      "OMP: Info #254: KMP_AFFINITY: pid 408 tid 454 thread 13 bound to OS proc set 2\n",
      "OMP: Info #254: KMP_AFFINITY: pid 408 tid 469 thread 15 bound to OS proc set 6\n",
      "OMP: Info #254: KMP_AFFINITY: pid 408 tid 468 thread 14 bound to OS proc set 4\n",
      "OMP: Info #254: KMP_AFFINITY: pid 408 tid 470 thread 16 bound to OS proc set 8\n",
      "OMP: Info #254: KMP_AFFINITY: pid 408 tid 471 thread 17 bound to OS proc set 10\n",
      "OMP: Info #254: KMP_AFFINITY: pid 408 tid 472 thread 18 bound to OS proc set 1\n",
      "OMP: Info #254: KMP_AFFINITY: pid 408 tid 473 thread 19 bound to OS proc set 3\n",
      "OMP: Info #254: KMP_AFFINITY: pid 408 tid 474 thread 20 bound to OS proc set 5\n",
      "OMP: Info #254: KMP_AFFINITY: pid 408 tid 475 thread 21 bound to OS proc set 7\n",
      "OMP: Info #254: KMP_AFFINITY: pid 408 tid 476 thread 22 bound to OS proc set 9\n",
      "OMP: Info #254: KMP_AFFINITY: pid 408 tid 477 thread 23 bound to OS proc set 11\n",
      "OMP: Info #254: KMP_AFFINITY: pid 408 tid 478 thread 24 bound to OS proc set 0\n"
     ]
    },
    {
     "name": "stdout",
     "output_type": "stream",
     "text": [
      "step: 0/10000, e_loss: 314.4693\n"
     ]
    }
   ],
   "source": [
    "generated_data = timegan(train_data, parameters)   \n",
    "print('Finish Synthetic Data Generation')"
   ]
  },
  {
   "cell_type": "code",
   "execution_count": null,
   "id": "c8f9a898",
   "metadata": {},
   "outputs": [],
   "source": [
    "metric_iteration = 5\n",
    "\n",
    "discriminative_score = list()\n",
    "for _ in range(metric_iteration):\n",
    "    temp_disc = discriminative_score_metrics(train_data, generated_data)\n",
    "    discriminative_score.append(temp_disc)\n",
    "\n",
    "print('Discriminative score: ' + str(np.round(np.mean(discriminative_score), 4)))"
   ]
  },
  {
   "cell_type": "code",
   "execution_count": null,
   "id": "5ebc4968",
   "metadata": {},
   "outputs": [],
   "source": [
    "predictive_score = list()\n",
    "for tt in range(metric_iteration):\n",
    "    temp_pred = predictive_score_metrics(train_data, generated_data)\n",
    "    predictive_score.append(temp_pred)   \n",
    "    \n",
    "print('Predictive score: ' + str(np.round(np.mean(predictive_score), 4)))"
   ]
  },
  {
   "cell_type": "code",
   "execution_count": null,
   "id": "dc2f3acd",
   "metadata": {},
   "outputs": [],
   "source": [
    "scores = pd.DataFrame({'DiscriminativeScore' : discriminative_score, 'PredictiveScore' : predictive_score})"
   ]
  },
  {
   "cell_type": "code",
   "execution_count": null,
   "id": "5e54e313",
   "metadata": {},
   "outputs": [],
   "source": [
    "visualization(ori_data, generated_data, 'pca', save=False)\n",
    "visualization(ori_data, generated_data, 'tsne', save=False)"
   ]
  }
 ],
 "metadata": {
  "kernelspec": {
   "display_name": "Python 3",
   "language": "python",
   "name": "python3"
  },
  "language_info": {
   "codemirror_mode": {
    "name": "ipython",
    "version": 3
   },
   "file_extension": ".py",
   "mimetype": "text/x-python",
   "name": "python",
   "nbconvert_exporter": "python",
   "pygments_lexer": "ipython3",
   "version": "3.8.8"
  }
 },
 "nbformat": 4,
 "nbformat_minor": 5
}
